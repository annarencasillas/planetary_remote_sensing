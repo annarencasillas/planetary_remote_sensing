import numpy as np
from scipy.integrate import quad
import matplotlib.pyplot as plt
